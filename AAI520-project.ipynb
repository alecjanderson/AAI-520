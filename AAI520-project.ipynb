{
 "cells": [
  {
   "cell_type": "code",
   "execution_count": 1,
   "id": "e5b4c0a0",
   "metadata": {
    "executionInfo": {
     "elapsed": 171,
     "status": "ok",
     "timestamp": 1696283722724,
     "user": {
      "displayName": "Alec Anderson",
      "userId": "10628656018086214733"
     },
     "user_tz": 420
    },
    "id": "e5b4c0a0"
   },
   "outputs": [
    {
     "name": "stderr",
     "output_type": "stream",
     "text": [
      "/Users/aanderson/opt/anaconda3/lib/python3.9/site-packages/scipy/__init__.py:146: UserWarning: A NumPy version >=1.16.5 and <1.23.0 is required for this version of SciPy (detected version 1.24.3\n",
      "  warnings.warn(f\"A NumPy version >={np_minversion} and <{np_maxversion}\"\n"
     ]
    }
   ],
   "source": [
    "import re\n",
    "import torch\n",
    "import torch.nn as nn\n",
    "import torch.nn.functional as F\n",
    "from torch.nn.utils.rnn import pad_sequence\n",
    "from torch.utils.data import DataLoader, Dataset\n",
    "# Metrics\n",
    "from nltk.translate.bleu_score import sentence_bleu\n",
    "from rouge_score import rouge_scorer\n",
    "# Text box\n",
    "import ipywidgets as widgets\n",
    "from IPython.display import display"
   ]
  },
  {
   "cell_type": "code",
   "execution_count": 2,
   "id": "2GdIDHUhWmeX",
   "metadata": {
    "executionInfo": {
     "elapsed": 5,
     "status": "ok",
     "timestamp": 1696283249751,
     "user": {
      "displayName": "Alec Anderson",
      "userId": "10628656018086214733"
     },
     "user_tz": 420
    },
    "id": "2GdIDHUhWmeX"
   },
   "outputs": [],
   "source": [
    "# Read-in movie lines and conversations datasets\n",
    "movie_lines_path = '/Users/aanderson/Downloads/corpus/movie_lines.txt'\n",
    "movie_conversations_path = '/Users/aanderson/Downloads/corpus/movie_conversations.txt'"
   ]
  },
  {
   "cell_type": "code",
   "execution_count": 3,
   "id": "0bac7002",
   "metadata": {
    "executionInfo": {
     "elapsed": 267,
     "status": "ok",
     "timestamp": 1696283250014,
     "user": {
      "displayName": "Alec Anderson",
      "userId": "10628656018086214733"
     },
     "user_tz": 420
    },
    "id": "0bac7002"
   },
   "outputs": [],
   "source": [
    "lines = open(movie_lines_path, encoding='utf-8', errors='ignore').read().split('\\n')\n",
    "convers = open(movie_conversations_path, encoding='utf-8', errors='ignore').read().split('\\n')"
   ]
  },
  {
   "cell_type": "markdown",
   "id": "8e5efb0e",
   "metadata": {},
   "source": [
    "**Text Preprocessing**"
   ]
  },
  {
   "cell_type": "code",
   "execution_count": 4,
   "id": "9ab8de4d",
   "metadata": {
    "executionInfo": {
     "elapsed": 4,
     "status": "ok",
     "timestamp": 1696283250014,
     "user": {
      "displayName": "Alec Anderson",
      "userId": "10628656018086214733"
     },
     "user_tz": 420
    },
    "id": "9ab8de4d"
   },
   "outputs": [],
   "source": [
    "class TextPreprocessor:\n",
    "    def __init__(self, max_len=13):\n",
    "        self.max_len = max_len\n",
    "        self._compile_regex()\n",
    "\n",
    "    def _compile_regex(self):\n",
    "        self.regex_patterns = {\n",
    "            r\"i'm\": \"i am\",\n",
    "            r\"he's\": \"he is\",\n",
    "            r\"she's\": \"she is\",\n",
    "            r\"that's\": \"that is\",\n",
    "            r\"what's\": \"what is\",\n",
    "            r\"where's\": \"where is\",\n",
    "            r\"\\'ll\": \" will\",\n",
    "            r\"\\'ve\": \" have\",\n",
    "            r\"\\'re\": \" are\",\n",
    "            r\"\\'d\": \" would\",\n",
    "            r\"won't\": \"will not\",\n",
    "            r\"can't\": \"cannot\",\n",
    "            r\"[^\\w\\s]\": \"\",\n",
    "        }\n",
    "        self.compiled_patterns = {re.compile(pattern): repl for pattern, repl in self.regex_patterns.items()}\n",
    "\n",
    "    def clean_text(self, txt):\n",
    "        txt = txt.lower()\n",
    "        for pattern, repl in self.compiled_patterns.items():\n",
    "            txt = pattern.sub(repl, txt)\n",
    "        return txt\n",
    "\n",
    "    def preprocess_data(self, convers, lines):\n",
    "        exchange = [conver.split(' +++$+++ ')[-1][1:-1].replace(\"'\", \" \").replace(\",\", \"\").split() for conver in convers]\n",
    "        diag = {line.split(' +++$+++ ')[0]: line.split(' +++$+++ ')[-1] for line in lines}\n",
    "        questions, answers = self._extract_questions_answers(exchange, diag)\n",
    "        return questions, answers\n",
    "\n",
    "    def _extract_questions_answers(self, exchange, diag):\n",
    "        questions, answers = [], []\n",
    "        for conver in exchange:\n",
    "            for i in range(len(conver) - 1):\n",
    "                questions.append(diag.get(conver[i], ''))\n",
    "                answers.append(diag.get(conver[i + 1], ''))\n",
    "        sorted_ques = [q for q in questions if len(q.split()) < self.max_len]\n",
    "        sorted_ans = [a for q, a in zip(questions, answers) if len(q.split()) < self.max_len]\n",
    "        return sorted_ques, sorted_ans"
   ]
  },
  {
   "cell_type": "code",
   "execution_count": 5,
   "id": "ff0e1d9a",
   "metadata": {
    "executionInfo": {
     "elapsed": 988,
     "status": "ok",
     "timestamp": 1696283563711,
     "user": {
      "displayName": "Alec Anderson",
      "userId": "10628656018086214733"
     },
     "user_tz": 420
    },
    "id": "ff0e1d9a"
   },
   "outputs": [],
   "source": [
    "# Apply preprocessing and cleaning\n",
    "max_len = 13\n",
    "preprocessor = TextPreprocessor(max_len=max_len)\n",
    "sorted_ques, sorted_ans = preprocessor.preprocess_data(convers, lines)\n",
    "clean_ques = [preprocessor.clean_text(q) for q in sorted_ques]\n",
    "clean_ans = [preprocessor.clean_text(a) for a in sorted_ans]\n",
    "\n",
    "# Trimming answers and lists\n",
    "clean_ans = [' '.join(ans.split()[:11]) for ans in clean_ans]\n",
    "clean_ans = clean_ans[:30000]\n",
    "clean_ques = clean_ques[:30000]"
   ]
  },
  {
   "cell_type": "code",
   "execution_count": 6,
   "id": "79e1a023",
   "metadata": {},
   "outputs": [
    {
     "name": "stdout",
     "output_type": "stream",
     "text": [
      "[\"Well, I thought we'd start with pronunciation, if that's okay with you.\", 'Not the hacking and gagging and spitting part.  Please.', \"You're asking me out.  That's so cute. What's your name again?\", 'Cameron.', 'Why?']\n",
      "['Not the hacking and gagging and spitting part.  Please.', \"Okay... then how 'bout we try out some French cuisine.  Saturday?  Night?\", 'Forget it.', \"The thing is, Cameron -- I'm at the mercy of a particularly hideous breed of loser.  My sister.  I can't date until she does.\", 'Unsolved mystery.  She used to be really popular when she started high school, then it was just like she got sick of it or something.']\n"
     ]
    }
   ],
   "source": [
    "# Before cleaning\n",
    "print(sorted_ques[:5])\n",
    "print(sorted_ans[:5])"
   ]
  },
  {
   "cell_type": "code",
   "execution_count": 7,
   "id": "a7eb9bdd",
   "metadata": {},
   "outputs": [
    {
     "name": "stdout",
     "output_type": "stream",
     "text": [
      "['well i thought we would start with pronunciation if that is okay with you', 'not the hacking and gagging and spitting part  please', 'you are asking me out  that is so cute what is your name again', 'cameron', 'why']\n",
      "['not the hacking and gagging and spitting part please', 'okay then how bout we try out some french cuisine saturday', 'forget it', 'the thing is cameron i am at the mercy of a', 'unsolved mystery she used to be really popular when she started']\n"
     ]
    }
   ],
   "source": [
    "# After cleaning\n",
    "print(clean_ques[:5])\n",
    "print(clean_ans[:5])"
   ]
  },
  {
   "cell_type": "code",
   "execution_count": 8,
   "id": "Y_JQIi1mYH2r",
   "metadata": {
    "executionInfo": {
     "elapsed": 202,
     "status": "ok",
     "timestamp": 1696283566047,
     "user": {
      "displayName": "Alec Anderson",
      "userId": "10628656018086214733"
     },
     "user_tz": 420
    },
    "id": "Y_JQIi1mYH2r"
   },
   "outputs": [],
   "source": [
    "# Counting word occurrences and creating vocab based on threshold\n",
    "word2count = {}\n",
    "for line in clean_ques + clean_ans:\n",
    "    for word in line.split():\n",
    "        word2count[word] = word2count.get(word, 0) + 1\n",
    "\n",
    "# Creating the vocabulary based on threshold\n",
    "thresh = 5\n",
    "vocab = {word: num for num, (word, count) in enumerate(word2count.items()) if count >= thresh}"
   ]
  },
  {
   "cell_type": "code",
   "execution_count": 9,
   "id": "qlT6Ec8kYH46",
   "metadata": {
    "colab": {
     "base_uri": "https://localhost:8080/"
    },
    "executionInfo": {
     "elapsed": 432,
     "status": "ok",
     "timestamp": 1696283568465,
     "user": {
      "displayName": "Alec Anderson",
      "userId": "10628656018086214733"
     },
     "user_tz": 420
    },
    "id": "qlT6Ec8kYH46",
    "outputId": "ec9cd3f3-2ecf-42d9-ec7f-6ec3fcd3a493"
   },
   "outputs": [
    {
     "data": {
      "text/plain": [
       "([[0, 1, 2, 3, 4, 5, 6, 4088, 8, 9, 10, 11, 6, 12],\n",
       "  [13, 14, 4088, 16, 4088, 16, 4088, 19, 20],\n",
       "  [12, 21, 22, 23, 24, 9, 10, 25, 26, 27, 10, 28, 29, 30],\n",
       "  [31],\n",
       "  [32]],\n",
       " [[4089, 13, 14, 4088, 16, 4088, 16, 4088, 19, 20, 4087],\n",
       "  [4089, 11, 93, 56, 1129, 3, 738, 24, 361, 283, 4088, 141, 4087],\n",
       "  [4089, 166, 159, 4087],\n",
       "  [4089, 14, 140, 10, 31, 1, 103, 133, 14, 3364, 81, 38, 4087],\n",
       "  [4089, 4088, 8415, 79, 271, 75, 125, 430, 945, 365, 79, 1107, 4087]])"
      ]
     },
     "execution_count": 9,
     "metadata": {},
     "output_type": "execute_result"
    }
   ],
   "source": [
    "# Adding special tokens to the vocabulary\n",
    "tokens = ['<PAD>', '<EOS>', '<OUT>', '<SOS>']\n",
    "for token in tokens:\n",
    "    vocab[token] = len(vocab)\n",
    "\n",
    "# Creating the inverse vocabulary\n",
    "inv_vocab = {num: word for word, num in vocab.items()}\n",
    "\n",
    "# Encoding the questions and answers\n",
    "encoder_inp = [[vocab.get(word, vocab['<OUT>']) for word in line.split()] for line in clean_ques]\n",
    "decoder_inp = [[vocab.get(word, vocab['<OUT>']) for word in ('<SOS> ' + line + ' <EOS>').split()] for line in clean_ans]\n",
    "\n",
    "# Sample output for verification\n",
    "encoder_inp[:5], decoder_inp[:5]\n"
   ]
  },
  {
   "cell_type": "code",
   "execution_count": 10,
   "id": "31709367",
   "metadata": {
    "executionInfo": {
     "elapsed": 1800,
     "status": "ok",
     "timestamp": 1696283934857,
     "user": {
      "displayName": "Alec Anderson",
      "userId": "10628656018086214733"
     },
     "user_tz": 420
    },
    "id": "31709367"
   },
   "outputs": [],
   "source": [
    "# Convert lists to PyTorch tensors\n",
    "encoder_inp_tensors = [torch.LongTensor(seq) for seq in encoder_inp]\n",
    "decoder_inp_tensors = [torch.LongTensor(seq) for seq in decoder_inp]\n",
    "\n",
    "# Padding\n",
    "max_seq_len = max(max(len(seq) for seq in encoder_inp_tensors), max(len(seq) for seq in decoder_inp_tensors))\n",
    "encoder_inp_tensors_padded = [torch.cat([seq, torch.LongTensor([vocab['<PAD>']] * (max_seq_len - len(seq)))]) for seq in encoder_inp_tensors]\n",
    "decoder_inp_tensors_padded = [torch.cat([seq, torch.LongTensor([vocab['<PAD>']] * (max_seq_len - len(seq)))]) for seq in decoder_inp_tensors]\n",
    "\n",
    "# Convert lists of tensors to 2D tensors\n",
    "encoder_inp_padded = torch.stack(encoder_inp_tensors_padded, dim=0)\n",
    "decoder_inp_padded = torch.stack(decoder_inp_tensors_padded, dim=0)\n",
    "decoder_final_output = decoder_inp_padded[:, 1:]"
   ]
  },
  {
   "cell_type": "code",
   "execution_count": 11,
   "id": "52d6498a",
   "metadata": {},
   "outputs": [
    {
     "name": "stdout",
     "output_type": "stream",
     "text": [
      "torch.Size([30000, 15])\n",
      "torch.Size([30000, 15])\n",
      "torch.Size([30000, 14])\n"
     ]
    }
   ],
   "source": [
    "print(encoder_inp_padded.shape)\n",
    "print(decoder_inp_padded.shape)\n",
    "print(decoder_final_output.shape)\n"
   ]
  },
  {
   "cell_type": "code",
   "execution_count": 12,
   "id": "1c79f346-5c07-47c8-a751-fb099b981bd9",
   "metadata": {},
   "outputs": [
    {
     "data": {
      "text/plain": [
       "torch.Size([30000, 14])"
      ]
     },
     "execution_count": 12,
     "metadata": {},
     "output_type": "execute_result"
    }
   ],
   "source": [
    "decoder_final_output.shape"
   ]
  },
  {
   "cell_type": "code",
   "execution_count": 13,
   "id": "Qa_ZkS2rYxSl",
   "metadata": {
    "colab": {
     "base_uri": "https://localhost:8080/"
    },
    "executionInfo": {
     "elapsed": 188,
     "status": "ok",
     "timestamp": 1696283704542,
     "user": {
      "displayName": "Alec Anderson",
      "userId": "10628656018086214733"
     },
     "user_tz": 420
    },
    "id": "Qa_ZkS2rYxSl",
    "outputId": "0f2ac5fd-1ecc-4b03-8830-13785de82653"
   },
   "outputs": [
    {
     "data": {
      "text/plain": [
       "(torch.Size([30000, 15]), torch.Size([30000, 15]), torch.Size([30000, 14]))"
      ]
     },
     "execution_count": 13,
     "metadata": {},
     "output_type": "execute_result"
    }
   ],
   "source": [
    "# Verify\n",
    "encoder_inp_padded.shape, decoder_inp_padded.shape, decoder_final_output.shape"
   ]
  },
  {
   "cell_type": "code",
   "execution_count": 14,
   "id": "0ba13e7f-90b6-43d3-a713-ba3f42701dec",
   "metadata": {},
   "outputs": [
    {
     "data": {
      "text/plain": [
       "tensor([  93,    9,   10,   94,   12,   95,   75,   96, 4086, 4086, 4086, 4086,\n",
       "        4086, 4086, 4086])"
      ]
     },
     "execution_count": 14,
     "metadata": {},
     "output_type": "execute_result"
    }
   ],
   "source": [
    "encoder_inp_padded[22]"
   ]
  },
  {
   "cell_type": "code",
   "execution_count": 15,
   "id": "12b0c0a8-f7ae-4fcd-a1fc-0e30af282754",
   "metadata": {},
   "outputs": [
    {
     "name": "stderr",
     "output_type": "stream",
     "text": [
      "/var/folders/zr/tz5czcmd56nghjwmrkfjvrr80000gn/T/ipykernel_9007/1393693452.py:1: UserWarning: To copy construct from a tensor, it is recommended to use sourceTensor.clone().detach() or sourceTensor.clone().detach().requires_grad_(True), rather than torch.tensor(sourceTensor).\n",
      "  test_batch = torch.tensor(encoder_inp_padded[2].to(dtype=torch.long))\n",
      "/var/folders/zr/tz5czcmd56nghjwmrkfjvrr80000gn/T/ipykernel_9007/1393693452.py:2: UserWarning: To copy construct from a tensor, it is recommended to use sourceTensor.clone().detach() or sourceTensor.clone().detach().requires_grad_(True), rather than torch.tensor(sourceTensor).\n",
      "  test_batch2 = torch.tensor(encoder_inp_padded[1].to(dtype=torch.long))\n",
      "/var/folders/zr/tz5czcmd56nghjwmrkfjvrr80000gn/T/ipykernel_9007/1393693452.py:3: UserWarning: The use of `x.T` on tensors of dimension other than 2 to reverse their shape is deprecated and it will throw an error in a future release. Consider `x.mT` to transpose batches of matrices or `x.permute(*torch.arange(x.ndim - 1, -1, -1))` to reverse the dimensions of a tensor. (Triggered internally at /private/var/folders/sy/f16zz6x50xz3113nwtb9bvq00000gp/T/abs_9d63z49rj_/croot/pytorch_1681837279022/work/aten/src/ATen/native/TensorShape.cpp:3281.)\n",
      "  batch_tester = torch.stack([test_batch.T,test_batch2])\n"
     ]
    }
   ],
   "source": [
    "test_batch = torch.tensor(encoder_inp_padded[2].to(dtype=torch.long))\n",
    "test_batch2 = torch.tensor(encoder_inp_padded[1].to(dtype=torch.long))\n",
    "batch_tester = torch.stack([test_batch.T,test_batch2])"
   ]
  },
  {
   "cell_type": "markdown",
   "id": "2f88c371",
   "metadata": {},
   "source": [
    "**Encoder, Decoder and Seq2Seq**"
   ]
  },
  {
   "cell_type": "code",
   "execution_count": 16,
   "id": "c761e8ce",
   "metadata": {
    "executionInfo": {
     "elapsed": 2,
     "status": "ok",
     "timestamp": 1696283257085,
     "user": {
      "displayName": "Alec Anderson",
      "userId": "10628656018086214733"
     },
     "user_tz": 420
    },
    "id": "c761e8ce"
   },
   "outputs": [],
   "source": [
    "class Encoder(nn.Module):\n",
    "    def __init__(self, input_size, hidden_size):\n",
    "        super(Encoder, self).__init__()\n",
    "        self.hidden_size = hidden_size\n",
    "        self.embedding = nn.Embedding(input_size, hidden_size)\n",
    "        self.gru = nn.GRU(hidden_size, hidden_size, bidirectional=True)\n",
    "\n",
    "    def forward(self, input_seq, input_lengths, hidden=None):\n",
    "        embedded = self.embedding(input_seq)\n",
    "        packed = nn.utils.rnn.pack_padded_sequence(embedded, input_lengths.cpu(), enforce_sorted=False)\n",
    "        outputs, hidden = self.gru(packed, hidden)\n",
    "        outputs, _ = nn.utils.rnn.pad_packed_sequence(outputs)\n",
    "        outputs = outputs[:, :, :self.hidden_size] + outputs[:, :, self.hidden_size:]\n",
    "        return outputs, hidden"
   ]
  },
  {
   "cell_type": "code",
   "execution_count": 17,
   "id": "f9e69c5d-4a9a-4f41-b0c9-b2b2b05563a0",
   "metadata": {},
   "outputs": [],
   "source": [
    "class Decoder(nn.Module):\n",
    "    def __init__(self, method, hidden_size):\n",
    "        super(Decoder, self).__init__()\n",
    "        self.method = method\n",
    "        self.hidden_size = hidden_size\n",
    "        \n",
    "        if self.method == 'general':\n",
    "            self.attn = nn.Linear(self.hidden_size, hidden_size)\n",
    "            \n",
    "    def general_score(self, hidden, encoder_output):\n",
    "        energy = self.attn(encoder_output)\n",
    "        return torch.sum(hidden * energy, dim=2)\n",
    "\n",
    "    def forward(self, hidden, encoder_outputs):\n",
    "        if self.method == 'general':\n",
    "            attn_energies = self.general_score(hidden, encoder_outputs)\n",
    "        \n",
    "        attn_energies = attn_energies.t()\n",
    "        return F.softmax(attn_energies, dim=1).unsqueeze(1)"
   ]
  },
  {
   "cell_type": "code",
   "execution_count": 18,
   "id": "c7bf95dd",
   "metadata": {},
   "outputs": [],
   "source": [
    "input_size = len(vocab)\n",
    "src_vocab_size = len(vocab)\n",
    "trg_vocab_size = len(vocab)\n",
    "hidden_size = 200 \n",
    "\n",
    "encoder = Encoder(input_size, hidden_size)\n",
    "\n",
    "test_input = encoder_inp_padded[1].unsqueeze(1)\n",
    "test_input_lengths = torch.tensor([len(test_input)]) \n",
    "\n",
    "# Double checking sequence length:\n",
    "assert test_input.shape[0] >= torch.max(test_input_lengths), \"Declared sequence length exceeds actual length\"\n",
    "\n",
    "# Encoder\n",
    "output, hidden = encoder(test_input, test_input_lengths)"
   ]
  },
  {
   "cell_type": "code",
   "execution_count": 19,
   "id": "427abc46",
   "metadata": {},
   "outputs": [],
   "source": [
    "class TransformerSeq2Seq(nn.Module):\n",
    "    def __init__(self, src_vocab_size, trg_vocab_size, d_model, nhead, num_encoder_layers, num_decoder_layers):\n",
    "        super(TransformerSeq2Seq, self).__init__()\n",
    "\n",
    "        # Encoder\n",
    "        self.encoder = nn.TransformerEncoder(\n",
    "            nn.TransformerEncoderLayer(d_model, nhead),\n",
    "            num_layers=num_encoder_layers\n",
    "        )\n",
    "\n",
    "        # Decoder\n",
    "        self.decoder = nn.TransformerDecoder(\n",
    "            nn.TransformerDecoderLayer(d_model, nhead),\n",
    "            num_layers=num_decoder_layers\n",
    "        )\n",
    "\n",
    "        # Embeddings\n",
    "        self.src_embedding = nn.Embedding(src_vocab_size, d_model)\n",
    "        self.trg_embedding = nn.Embedding(trg_vocab_size, d_model)\n",
    "\n",
    "        # Output layer\n",
    "        self.output_layer = nn.Linear(d_model, trg_vocab_size)\n",
    "\n",
    "    def forward(self, src, trg):\n",
    "        # Embed source and target sequences\n",
    "        src_embedded = self.src_embedding(src)\n",
    "        trg_embedded = self.trg_embedding(trg)\n",
    "\n",
    "        # Encode source sequence\n",
    "        encoder_output = self.encoder(src_embedded)\n",
    "\n",
    "        # Decode target sequence with encoder output\n",
    "        decoder_output = self.decoder(trg_embedded, encoder_output)\n",
    "\n",
    "        # Final prediction\n",
    "        output = self.output_layer(decoder_output)\n",
    "\n",
    "        return output"
   ]
  },
  {
   "cell_type": "code",
   "execution_count": 20,
   "id": "dda9a72e",
   "metadata": {
    "colab": {
     "base_uri": "https://localhost:8080/",
     "height": 391
    },
    "executionInfo": {
     "elapsed": 1377,
     "status": "error",
     "timestamp": 1696283258460,
     "user": {
      "displayName": "Alec Anderson",
      "userId": "10628656018086214733"
     },
     "user_tz": 420
    },
    "id": "dda9a72e",
    "outputId": "8968ae54-cb82-48b7-ee62-9a28277e6602"
   },
   "outputs": [
    {
     "name": "stdout",
     "output_type": "stream",
     "text": [
      "Epoch [1/2], Loss: 6.1925\n",
      "Epoch [1/2], Loss: 5.1615\n",
      "Epoch [1/2], Loss: 5.8120\n",
      "Epoch [1/2], Loss: 4.7357\n",
      "Epoch [1/2], Loss: 5.3043\n",
      "Epoch [1/2], Loss: 4.6702\n",
      "Epoch [1/2], Loss: 5.9605\n",
      "Epoch [1/2], Loss: 5.8685\n",
      "Epoch [1/2], Loss: 5.3909\n",
      "Epoch [1/2], Loss: 5.7470\n",
      "Epoch [1/2], Loss: 5.3402\n",
      "Epoch [1/2], Loss: 5.0852\n",
      "Epoch [1/2], Loss: 5.5482\n",
      "Epoch [1/2], Loss: 5.4563\n",
      "Epoch [1/2], Loss: 5.8816\n",
      "Epoch [1/2], Loss: 5.0328\n",
      "Epoch [1/2], Loss: 4.5945\n",
      "Epoch [1/2], Loss: 6.1544\n",
      "Epoch [1/2], Loss: 5.7120\n",
      "Epoch [1/2], Loss: 4.5364\n",
      "Epoch [1/2], Loss: 5.5490\n",
      "Epoch [1/2], Loss: 5.0505\n",
      "Epoch [1/2], Loss: 5.0775\n",
      "Epoch [1/2], Loss: 5.9997\n",
      "Epoch [1/2], Loss: 5.6600\n",
      "Epoch [1/2], Loss: 4.6193\n",
      "Epoch [2/2], Loss: 5.2666\n",
      "Epoch [2/2], Loss: 4.7714\n",
      "Epoch [2/2], Loss: 5.0579\n",
      "Epoch [2/2], Loss: 4.8656\n",
      "Epoch [2/2], Loss: 4.3671\n",
      "Epoch [2/2], Loss: 5.0789\n",
      "Epoch [2/2], Loss: 5.1490\n",
      "Epoch [2/2], Loss: 4.7253\n",
      "Epoch [2/2], Loss: 5.2326\n",
      "Epoch [2/2], Loss: 5.7042\n",
      "Epoch [2/2], Loss: 4.2576\n",
      "Epoch [2/2], Loss: 6.0411\n",
      "Epoch [2/2], Loss: 4.6721\n"
     ]
    }
   ],
   "source": [
    "EPOCHS = 2\n",
    "LR = 0.001\n",
    "\n",
    "# Defining parameters\n",
    "d_model = 512\n",
    "nhead = 8\n",
    "num_encoder_layers = 6\n",
    "num_decoder_layers = 6\n",
    "\n",
    "model = TransformerSeq2Seq(src_vocab_size, trg_vocab_size, d_model, nhead, num_encoder_layers, num_decoder_layers)\n",
    "\n",
    "criterion = nn.CrossEntropyLoss(ignore_index=vocab['<PAD>'])\n",
    "optimizer = torch.optim.Adam(model.parameters(), lr=LR)\n",
    "\n",
    "for epoch in range(EPOCHS):\n",
    "    data_loader = DataLoader(\n",
    "        list(zip(encoder_inp_padded, decoder_inp_padded, decoder_final_output)),\n",
    "        batch_size=3,\n",
    "        shuffle=True\n",
    "    )\n",
    "    for i, (encoder_input, decoder_input, decoder_output) in enumerate(data_loader):\n",
    "        optimizer.zero_grad()\n",
    "        \n",
    "        if (encoder_input >= src_vocab_size).any() or (decoder_input >= trg_vocab_size).any():\n",
    "            continue\n",
    "\n",
    "        outputs = model(encoder_input, decoder_input)\n",
    "        \n",
    "        loss = criterion(outputs[:, 1:].contiguous().view(-1, outputs.shape[-1]), decoder_output.view(-1))\n",
    "        loss.backward()\n",
    "        optimizer.step()\n",
    "\n",
    "        if i % 100 == 0:\n",
    "            print(f\"Epoch [{epoch + 1}/{EPOCHS}], Loss: {loss.item():.4f}\")"
   ]
  },
  {
   "cell_type": "code",
   "execution_count": 24,
   "id": "c543ef5a",
   "metadata": {},
   "outputs": [],
   "source": [
    "# Save the model\n",
    "torch.save(model.state_dict(), 'transformer_model.pth')"
   ]
  },
  {
   "cell_type": "code",
   "execution_count": null,
   "id": "a8b89430",
   "metadata": {},
   "outputs": [
    {
     "name": "stdout",
     "output_type": "stream",
     "text": [
      " * Serving Flask app '__main__'\n",
      " * Debug mode: off\n"
     ]
    },
    {
     "name": "stderr",
     "output_type": "stream",
     "text": [
      "WARNING: This is a development server. Do not use it in a production deployment. Use a production WSGI server instead.\n",
      " * Running on all addresses (0.0.0.0)\n",
      " * Running on http://127.0.0.1:8080\n",
      " * Running on http://192.168.0.205:8080\n",
      "Press CTRL+C to quit\n"
     ]
    }
   ],
   "source": [
    "from flask import Flask, request, jsonify\n",
    "import torch\n",
    "\n",
    "app = Flask(__name__)\n",
    "\n",
    "# Load the saved model\n",
    "model = TransformerSeq2Seq(src_vocab_size, trg_vocab_size, d_model, nhead, num_encoder_layers, num_decoder_layers)\n",
    "model.load_state_dict(torch.load('transformer_model.pth'))\n",
    "model.eval()\n",
    "\n",
    "@app.route('/predict', methods=['POST'])\n",
    "def predict():\n",
    "    input_data = request.json  # Assuming you send data in JSON format\n",
    "    # Preprocess input_data if needed\n",
    "    # Perform inference using the model\n",
    "    # Return the model's predictions\n",
    "\n",
    "if __name__ == '__main__':\n",
    "    app.run(host='0.0.0.0', port=8080)\n"
   ]
  },
  {
   "cell_type": "code",
   "execution_count": null,
   "id": "acfc0e67",
   "metadata": {},
   "outputs": [],
   "source": []
  }
 ],
 "metadata": {
  "accelerator": "GPU",
  "colab": {
   "gpuType": "T4",
   "provenance": []
  },
  "kernelspec": {
   "display_name": "Python 3 (ipykernel)",
   "language": "python",
   "name": "python3"
  },
  "language_info": {
   "codemirror_mode": {
    "name": "ipython",
    "version": 3
   },
   "file_extension": ".py",
   "mimetype": "text/x-python",
   "name": "python",
   "nbconvert_exporter": "python",
   "pygments_lexer": "ipython3",
   "version": "3.9.13"
  }
 },
 "nbformat": 4,
 "nbformat_minor": 5
}
