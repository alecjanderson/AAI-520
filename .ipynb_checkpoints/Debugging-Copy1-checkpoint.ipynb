{
 "cells": [
  {
   "cell_type": "code",
   "execution_count": 1,
   "id": "42e7df0c-e239-453a-aef8-c8ca6d777201",
   "metadata": {},
   "outputs": [],
   "source": [
    "import re\n",
    "import torch\n",
    "import torch.nn as nn\n",
    "import torch.nn.functional as F\n",
    "from torch.nn.utils.rnn import pad_sequence\n",
    "from torch.utils.data import DataLoader, Dataset\n",
    "# Metrics\n",
    "from nltk.translate.bleu_score import sentence_bleu\n",
    "from rouge_score import rouge_scorer\n",
    "# Text box\n",
    "import ipywidgets as widgets\n",
    "from IPython.display import display"
   ]
  },
  {
   "cell_type": "markdown",
   "id": "496c47d7-99b7-48da-a548-e27085190b5c",
   "metadata": {},
   "source": [
    "# Loading Data"
   ]
  },
  {
   "cell_type": "code",
   "execution_count": 2,
   "id": "e8635e07-a399-4732-9326-87bc2066ce61",
   "metadata": {},
   "outputs": [],
   "source": [
    "movie_lines_path = 'movie_lines.txt'\n",
    "movie_conversations_path = 'movie_conversations.txt'"
   ]
  },
  {
   "cell_type": "code",
   "execution_count": 3,
   "id": "03e7e220-0946-4887-b3c1-7587e07eb911",
   "metadata": {},
   "outputs": [],
   "source": [
    "with open(movie_lines_path, encoding='iso-8859-1', errors='ignore') as my_file:\n",
    "    all_lines = {}\n",
    "    for line in my_file:\n",
    "        split = line.split(' +++$+++ ')\n",
    "        linemp = {}\n",
    "        fields = [\"lineID\", \"characterID\", \"movieID\", \"character\", \"text\"]\n",
    "        count = 0\n",
    "        for field in (fields):\n",
    "                linemp[field] = split[count]\n",
    "                count +=1\n",
    "        all_lines[linemp['lineID']] = linemp        \n",
    "        \n"
   ]
  },
  {
   "cell_type": "code",
   "execution_count": 4,
   "id": "11228243-0624-4396-a869-dbeb6903ae1a",
   "metadata": {},
   "outputs": [],
   "source": [
    "with open(movie_conversations_path, encoding='iso-8859-1', errors='ignore') as my_file:\n",
    "    conv = []\n",
    "    for line in my_file:\n",
    "        split = line.split(' +++$+++ ')\n",
    "        obj = {}\n",
    "        fields = [\"character1ID\", \"character2ID\", \"movieID\", \"utteranceIDs\"]\n",
    "        count = 0 \n",
    "        for field in fields:\n",
    "            obj[field] = split[count]\n",
    "            count +=1\n",
    "        ID = re.compile('L[0-9]+').findall(obj['utteranceIDs'])\n",
    "        lines = []\n",
    "        \n",
    "        for id_ in ID:\n",
    "            lines.append(all_lines[id_])\n",
    "        obj['line'] = lines\n",
    "        conv.append(obj)"
   ]
  },
  {
   "cell_type": "code",
   "execution_count": 5,
   "id": "a9128b1c-a2d3-471c-9170-9c26cc9e471e",
   "metadata": {},
   "outputs": [
    {
     "data": {
      "text/plain": [
       "{'lineID': 'L985',\n",
       " 'characterID': 'u0',\n",
       " 'movieID': 'm0',\n",
       " 'character': 'BIANCA',\n",
       " 'text': 'I hope so.\\n'}"
      ]
     },
     "execution_count": 5,
     "metadata": {},
     "output_type": "execute_result"
    }
   ],
   "source": [
    "all_lines[\"L985\"]"
   ]
  },
  {
   "cell_type": "code",
   "execution_count": 6,
   "id": "fe44ff11-e6cf-4031-9d9d-e11c59ad3a6a",
   "metadata": {},
   "outputs": [
    {
     "data": {
      "text/plain": [
       "{'character1ID': 'u0',\n",
       " 'character2ID': 'u2',\n",
       " 'movieID': 'm0',\n",
       " 'utteranceIDs': \"['L367', 'L368']\\n\",\n",
       " 'line': [{'lineID': 'L367',\n",
       "   'characterID': 'u2',\n",
       "   'movieID': 'm0',\n",
       "   'character': 'CAMERON',\n",
       "   'text': 'How do you get your hair to look like that?\\n'},\n",
       "  {'lineID': 'L368',\n",
       "   'characterID': 'u0',\n",
       "   'movieID': 'm0',\n",
       "   'character': 'BIANCA',\n",
       "   'text': \"Eber's Deep Conditioner every two days. And I never, ever use a blowdryer without the diffuser attachment.\\n\"}]}"
      ]
     },
     "execution_count": 6,
     "metadata": {},
     "output_type": "execute_result"
    }
   ],
   "source": [
    "conv[10]"
   ]
  },
  {
   "cell_type": "markdown",
   "id": "2e77a02e-cf5c-4e7a-82ef-79a35f6774c0",
   "metadata": {},
   "source": [
    "# Matching Data"
   ]
  },
  {
   "cell_type": "code",
   "execution_count": 7,
   "id": "bdd12473-b5da-4467-821f-47d072334dc4",
   "metadata": {},
   "outputs": [],
   "source": [
    "pairs = []\n",
    "for convrtsation in conv:\n",
    "        for i in range(len(convrtsation['line'])):\n",
    "            try:\n",
    "                question = convrtsation['line'][i]['text'].strip()\n",
    "                answer = convrtsation['line'][i+1]['text'].strip()\n",
    "            except:\n",
    "                pass\n",
    "            if(question and answer):\n",
    "                pairs.append([question, answer])"
   ]
  },
  {
   "cell_type": "code",
   "execution_count": 8,
   "id": "d3552951-7952-46ca-b2c0-ba77810a05aa",
   "metadata": {},
   "outputs": [
    {
     "data": {
      "text/plain": [
       "304309"
      ]
     },
     "execution_count": 8,
     "metadata": {},
     "output_type": "execute_result"
    }
   ],
   "source": [
    "len(pairs)"
   ]
  },
  {
   "cell_type": "code",
   "execution_count": 9,
   "id": "a04a318c-c4e0-4c34-96cf-e0899fa7486f",
   "metadata": {},
   "outputs": [
    {
     "name": "stdout",
     "output_type": "stream",
     "text": [
      "['Can we make this quick?  Roxanne Korrine and Andrew Barrett are having an incredibly horrendous public break- up on the quad.  Again.', \"Well, I thought we'd start with pronunciation, if that's okay with you.\"]\n",
      "[\"Well, I thought we'd start with pronunciation, if that's okay with you.\", 'Not the hacking and gagging and spitting part.  Please.']\n",
      "['Not the hacking and gagging and spitting part.  Please.', \"Okay... then how 'bout we try out some French cuisine.  Saturday?  Night?\"]\n",
      "[\"Okay... then how 'bout we try out some French cuisine.  Saturday?  Night?\", \"Okay... then how 'bout we try out some French cuisine.  Saturday?  Night?\"]\n",
      "[\"You're asking me out.  That's so cute. What's your name again?\", 'Forget it.']\n",
      "['Forget it.', 'Forget it.']\n",
      "[\"No, no, it's my fault -- we didn't have a proper introduction ---\", 'Cameron.']\n",
      "['Cameron.', \"The thing is, Cameron -- I'm at the mercy of a particularly hideous breed of loser.  My sister.  I can't date until she does.\"]\n",
      "[\"The thing is, Cameron -- I'm at the mercy of a particularly hideous breed of loser.  My sister.  I can't date until she does.\", 'Seems like she could get a date easy enough...']\n",
      "['Seems like she could get a date easy enough...', 'Seems like she could get a date easy enough...']\n"
     ]
    }
   ],
   "source": [
    "for i in range (10):\n",
    "    print(pairs[i])"
   ]
  },
  {
   "cell_type": "code",
   "execution_count": 10,
   "id": "9643b90a-c167-4dd1-89a3-3fd652c336e8",
   "metadata": {},
   "outputs": [],
   "source": [
    "class Vocab:\n",
    "    def __init__(self):\n",
    "        self.enum = {\"PAD_token\" : 0, \"SOS_token\" : 1, \"EOS_token\":2, \"UNK\":3}\n",
    "        self.count = {}\n",
    "        self.index = {}\n",
    "        self.wordcount = 4\n",
    "        self.min_freq = 3\n",
    "    def addSentence(self,sentence):\n",
    "        for word in sentence.split(' '):\n",
    "            if word not in self.enum:\n",
    "                if(word in self.count.keys()):\n",
    "                    self.count[word] += 1\n",
    "                    if(self.count[word] >= self.min_freq):\n",
    "                        self.enum[word] = self.wordcount\n",
    "                        self.index[self.wordcount] = word\n",
    "                        self.wordcount += 1\n",
    "                else:\n",
    "                    self.count[word] = 1\n",
    "            else:\n",
    "                #print(\"Word already Added\")\n",
    "                self.count[word] += 1\n",
    "    def __len__(self):\n",
    "        return self.wordcount    \n",
    "                \n",
    "    ### This will be the class that handles the bag of words.\n",
    "    "
   ]
  },
  {
   "cell_type": "code",
   "execution_count": 11,
   "id": "ce72a784-ddc9-4c8e-9af9-f3ddd551693e",
   "metadata": {},
   "outputs": [],
   "source": [
    "PAD_token = 0\n",
    "SOS_token = 1\n",
    "EOS_token = 2\n",
    "UNK = 3"
   ]
  },
  {
   "cell_type": "code",
   "execution_count": 12,
   "id": "3a17b2f5-1baf-455e-a94e-81c91371af49",
   "metadata": {},
   "outputs": [],
   "source": [
    "voc = Vocab()"
   ]
  },
  {
   "cell_type": "code",
   "execution_count": 13,
   "id": "e43e236b-1a29-4632-ad31-ee6958da64c7",
   "metadata": {},
   "outputs": [],
   "source": [
    "import numpy as np"
   ]
  },
  {
   "cell_type": "code",
   "execution_count": 14,
   "id": "31e5db64-d0b7-4908-b9e7-2140f8a33210",
   "metadata": {},
   "outputs": [
    {
     "data": {
      "text/plain": [
       "(304309, 2)"
      ]
     },
     "execution_count": 14,
     "metadata": {},
     "output_type": "execute_result"
    }
   ],
   "source": [
    "shape = np.array(pairs)\n",
    "shape.shape"
   ]
  },
  {
   "cell_type": "code",
   "execution_count": 15,
   "id": "1900b858-db64-4911-a100-87ef6ac1e513",
   "metadata": {},
   "outputs": [],
   "source": [
    "import nltk\n",
    "from nltk.corpus import stopwords\n",
    "from nltk.stem import PorterStemmer\n"
   ]
  },
  {
   "cell_type": "code",
   "execution_count": 16,
   "id": "899030fa-a68f-4838-ac08-4129570a3a2e",
   "metadata": {},
   "outputs": [
    {
     "name": "stderr",
     "output_type": "stream",
     "text": [
      "[nltk_data] Downloading package stopwords to\n",
      "[nltk_data]     C:\\Users\\beand\\AppData\\Roaming\\nltk_data...\n",
      "[nltk_data]   Package stopwords is already up-to-date!\n"
     ]
    }
   ],
   "source": [
    "nltk.download('stopwords')\n",
    "stop_words = set(stopwords.words('english'))"
   ]
  },
  {
   "cell_type": "code",
   "execution_count": 17,
   "id": "cfac3d31-cdb7-4e1f-8e85-d3aee04d03dd",
   "metadata": {},
   "outputs": [],
   "source": [
    "import string\n",
    "def clean_String(stri):\n",
    "    new_string = ''\n",
    "    for i in stri:\n",
    "        if i not in string.punctuation:\n",
    "            new_string += i\n",
    "    stri = new_string\n",
    "    \n",
    "    lower_string = stri.lower()\n",
    "    no_number_string = re.sub(r'\\d+','',lower_string)\n",
    "    no_punc_string = re.sub(r'[^\\w\\s]','', no_number_string) \n",
    "    no_wspace_string = no_punc_string.strip()\n",
    "    \n",
    "    words = no_wspace_string.split()\n",
    "    #filtered_words = [word for word in words if word not in stop_words]\n",
    "    # I am unsure if removing stop words is correct on a chat bot for readability reasons\n",
    "    #\n",
    "\n",
    "        \n",
    "    return ' '.join(words)"
   ]
  },
  {
   "cell_type": "code",
   "execution_count": 18,
   "id": "0d1ae59f-6444-4907-8ec8-ec16a7c2d7d5",
   "metadata": {},
   "outputs": [],
   "source": [
    "for i in pairs:\n",
    "    for j in i:\n",
    "        cleaned = clean_String(j)\n",
    "        voc.addSentence(cleaned)"
   ]
  },
  {
   "cell_type": "code",
   "execution_count": 19,
   "id": "08815424-1c46-48b3-a683-075a0a50ebe9",
   "metadata": {},
   "outputs": [
    {
     "data": {
      "text/plain": [
       "42350"
      ]
     },
     "execution_count": 19,
     "metadata": {},
     "output_type": "execute_result"
    }
   ],
   "source": [
    "len(voc)"
   ]
  },
  {
   "cell_type": "code",
   "execution_count": 20,
   "id": "0b9e95e8-acd1-4014-bf94-ea7ff84676e5",
   "metadata": {},
   "outputs": [],
   "source": [
    "max_len = 50"
   ]
  },
  {
   "cell_type": "code",
   "execution_count": 21,
   "id": "54d102a7-3ef2-4060-8b82-d9b831b8b662",
   "metadata": {},
   "outputs": [
    {
     "data": {
      "text/plain": [
       "['Unsolved mystery.  She used to be really popular when she started high school, then it was just like she got sick of it or something.',\n",
       " \"That's a shame.\"]"
      ]
     },
     "execution_count": 21,
     "metadata": {},
     "output_type": "execute_result"
    }
   ],
   "source": [
    "pairs[11]"
   ]
  },
  {
   "cell_type": "markdown",
   "id": "176600fb-6cba-44c8-a12a-60fa8187cd2c",
   "metadata": {},
   "source": [
    "# Enumerating the Data"
   ]
  },
  {
   "cell_type": "code",
   "execution_count": 22,
   "id": "51f3b546-74b8-4404-aaf2-747a5756bb0e",
   "metadata": {},
   "outputs": [],
   "source": [
    "def enc_ques(words, voc):\n",
    "    words = clean_String(words)\n",
    "    words = (words)\n",
    "    encoded = []\n",
    "    count = 0\n",
    "    for word in words.split(' '):\n",
    "        encoded.append(voc.enum.get(word, voc.enum['UNK']))\n",
    "        count = count + 1\n",
    "        if(count == 30):\n",
    "            break\n",
    "    while(count < 30):\n",
    "        count = count + 1\n",
    "        encoded.append(voc.enum['PAD_token'])\n",
    "    \n",
    "                                \n",
    "    if(not len(encoded) == 30):\n",
    "        print(len(encoded))\n",
    "    return encoded"
   ]
  },
  {
   "cell_type": "code",
   "execution_count": 23,
   "id": "fa565095-d045-4e9b-b6b8-e80fb9ac055f",
   "metadata": {},
   "outputs": [],
   "source": [
    "def enc_rep(words, voc):\n",
    "    words = clean_String(words)\n",
    "    \n",
    "    encoded = []\n",
    "    encoded.append(voc.enum['SOS_token'])\n",
    "    count = 1\n",
    "    for word in words.split(' '):\n",
    "        \n",
    "        if(count == 29):\n",
    "            break\n",
    "        encoded.append(voc.enum.get(word, voc.enum['UNK']))\n",
    "        count = count + 1\n",
    "    while(count < 29):\n",
    "        count = count + 1\n",
    "        encoded.append(voc.enum['PAD_token'])\n",
    "    \n",
    "    encoded.append(voc.enum['EOS_token'])\n",
    "    if(not len(encoded) == 30):\n",
    "        print(len(encoded))\n",
    "    return encoded"
   ]
  },
  {
   "cell_type": "code",
   "execution_count": 24,
   "id": "4b21b87b-1f0d-4eb2-816d-ea6a3c157881",
   "metadata": {},
   "outputs": [],
   "source": [
    "pairs_encoded = []\n",
    "for pair in pairs:\n",
    "    qus = enc_ques(pair[0], voc)\n",
    "    ans = enc_rep(pair[1], voc)\n",
    "    #print(qus, ans)\n",
    "    pairs_encoded.append([qus, ans])\n",
    "    "
   ]
  },
  {
   "cell_type": "code",
   "execution_count": 25,
   "id": "3ea347f4-9fae-47a9-a88d-195b180a0a15",
   "metadata": {},
   "outputs": [],
   "source": [
    "class Dataset(Dataset):\n",
    "\n",
    "    def __init__(self, pairs):\n",
    "        self.pairs = pairs\n",
    "    def __getitem__(self, i):\n",
    "        \n",
    "        question = torch.LongTensor(self.pairs[i][0])\n",
    "        reply = torch.LongTensor(self.pairs[i][1])\n",
    "            \n",
    "        return question, reply\n",
    "\n",
    "    def __len__(self):\n",
    "        return len(pairs)"
   ]
  },
  {
   "cell_type": "code",
   "execution_count": 26,
   "id": "7050ef57-1bb0-4e16-8c3b-afa1dd0e9a0e",
   "metadata": {},
   "outputs": [
    {
     "data": {
      "text/plain": [
       "304309"
      ]
     },
     "execution_count": 26,
     "metadata": {},
     "output_type": "execute_result"
    }
   ],
   "source": [
    "len(pairs)"
   ]
  },
  {
   "cell_type": "code",
   "execution_count": 27,
   "id": "9f672948-a77b-46a9-8994-daf65b7789f2",
   "metadata": {},
   "outputs": [],
   "source": [
    "dataset = Dataset(pairs_encoded)"
   ]
  },
  {
   "cell_type": "code",
   "execution_count": 28,
   "id": "c3eb86a0-167f-49ae-a1d7-944be9ae8e1a",
   "metadata": {},
   "outputs": [
    {
     "data": {
      "text/plain": [
       "24309"
      ]
     },
     "execution_count": 28,
     "metadata": {},
     "output_type": "execute_result"
    }
   ],
   "source": [
    "304309-280000"
   ]
  },
  {
   "cell_type": "code",
   "execution_count": 29,
   "id": "6660fdf8-f16c-4d46-b260-13bdbd3d793a",
   "metadata": {},
   "outputs": [
    {
     "data": {
      "text/plain": [
       "(tensor([13807,  5432,    27,   356,    45,    55,    89,  1142,   171,    27,\n",
       "          1405,   263,   264,     9,    21,   133,   155,    30,    27,    61,\n",
       "           986,    24,    21,   173,    62,     0,     0,     0,     0,     0]),\n",
       " tensor([ 1, 19, 25, 35,  0,  0,  0,  0,  0,  0,  0,  0,  0,  0,  0,  0,  0,  0,\n",
       "          0,  0,  0,  0,  0,  0,  0,  0,  0,  0,  0,  2]))"
      ]
     },
     "execution_count": 29,
     "metadata": {},
     "output_type": "execute_result"
    }
   ],
   "source": [
    "dataset[11]"
   ]
  },
  {
   "cell_type": "code",
   "execution_count": 30,
   "id": "87e456de-1c2f-490a-8fbd-a9adac014127",
   "metadata": {},
   "outputs": [
    {
     "data": {
      "text/plain": [
       "(304309, 2)"
      ]
     },
     "execution_count": 30,
     "metadata": {},
     "output_type": "execute_result"
    }
   ],
   "source": [
    "np.array(pairs).shape"
   ]
  },
  {
   "cell_type": "code",
   "execution_count": null,
   "id": "e0fc2f25-7b06-437c-b0ff-fc02cfe6e31b",
   "metadata": {},
   "outputs": [],
   "source": []
  },
  {
   "cell_type": "code",
   "execution_count": 31,
   "id": "55a43dd9-c90e-457c-9f9e-194a6e27c8d4",
   "metadata": {},
   "outputs": [],
   "source": [
    "train_dataset, test_dataset = torch.utils.data.random_split(dataset, [280000, 24309])"
   ]
  },
  {
   "cell_type": "code",
   "execution_count": 32,
   "id": "2860a71b-b2be-41a8-aa62-526a05c3a4be",
   "metadata": {},
   "outputs": [],
   "source": [
    "train_loader = torch.utils.data.DataLoader(train_dataset, batch_size = 100)"
   ]
  },
  {
   "cell_type": "markdown",
   "id": "74e545bf-8953-4932-8b30-e2c097104e40",
   "metadata": {},
   "source": [
    "# Models"
   ]
  },
  {
   "cell_type": "code",
   "execution_count": 33,
   "id": "cbbad9e0-bcf7-47a1-8a74-5dfdd2880efa",
   "metadata": {},
   "outputs": [],
   "source": [
    "def create_masks(question, reply_input, reply_target):\n",
    "    \n",
    "    def subsequent_mask(size):\n",
    "        mask = torch.triu(torch.ones(size, size)).transpose(0, 1).type(dtype=torch.uint8)\n",
    "        return mask.unsqueeze(0)\n",
    "    \n",
    "    question_mask = question!=0\n",
    "    question_mask = question_mask.to(device)\n",
    "    question_mask = question_mask.unsqueeze(1).unsqueeze(1)         # (batch_size, 1, 1, max_words)\n",
    "     \n",
    "    reply_input_mask = reply_input!=0\n",
    "    reply_input_mask = reply_input_mask.unsqueeze(1)  # (batch_size, 1, max_words)\n",
    "    reply_input_mask = reply_input_mask & subsequent_mask(reply_input.size(-1)).type_as(reply_input_mask.data) \n",
    "    reply_input_mask = reply_input_mask.unsqueeze(1) # (batch_size, 1, max_words, max_words)\n",
    "    reply_target_mask = reply_target!=0              # (batch_size, max_words)\n",
    "    \n",
    "    return question_mask, reply_input_mask, reply_target_mask"
   ]
  },
  {
   "cell_type": "code",
   "execution_count": 34,
   "id": "23718687-b5f3-4e05-a22a-4731892ba706",
   "metadata": {},
   "outputs": [],
   "source": [
    "class Embedding(nn.Module):\n",
    "        def __init__(self, voc_size , size, max_len = 30):\n",
    "            super(Embedding, self).__init__()\n",
    "            self.divs = 10000\n",
    "            self.size = size\n",
    "            self.dropout = nn.Dropout(0.1)\n",
    "            self.embed = nn.Embedding(voc_size, size)\n",
    "            self.out = self.pos_enc(max_len, self.size)\n",
    "        \n",
    "        def calc(self, out, size, pos, loc):\n",
    "            out[pos, loc] = math.sin(pos / (self.divs ** ((2 * loc)/size)))\n",
    "            out[pos, loc + 1] = math.cos(pos / (self.divs ** ((2 * (loc + 1))/size)))\n",
    "            #print(out)\n",
    "            return out\n",
    "            \n",
    "        def pos_enc(self, max_len, size):\n",
    "            out = torch.zeros(max_len, size).to(device)\n",
    "            \n",
    "            for pos in range(max_len):  \n",
    "                for loc in range(math.ceil(size/2)):\n",
    "                    loc = loc * 2\n",
    "                    out = self.calc(out, size, pos, loc)\n",
    "            out = out.unsqueeze(0)   \n",
    "            #print(out)\n",
    "            return out\n",
    "        def forward(self, enc_out):\n",
    "            emb = self.embed(enc_out) * math.sqrt(self.size)\n",
    "            emb += self.out[:, :emb.size(1)]  \n",
    "            emb = self.dropout(emb)\n",
    "            return emb\n",
    "        "
   ]
  },
  {
   "cell_type": "code",
   "execution_count": 35,
   "id": "7defd565-1f29-4a8a-968d-64b004222194",
   "metadata": {},
   "outputs": [],
   "source": [
    "class Attn(nn.Module):\n",
    "    #Based off of https://uvadlc-notebooks.readthedocs.io/en/latest/tutorial_notebooks/tutorial6/Transformers_and_MHAttention.html\n",
    "\n",
    "    def scaled_dot_product(self, q, k, v, mask=None):\n",
    "        \n",
    "        sear = q.view(q.shape[0], -1, self.num_heads, self.divisor).permute(0, 2, 1, 3)   \n",
    "        q = k.view(q.shape[0], -1, self.num_heads, self.divisor).permute(0, 2, 1, 3)  \n",
    "        v = v.view(v.shape[0], -1, self.num_heads, self.divisor).permute(0, 2, 1, 3)  \n",
    "\n",
    "        score = torch.matmul(sear, q.permute(0,1,3,2)) / math.sqrt(sear.size(-1))\n",
    "        score = score.masked_fill(mask == 0, -1e9)    \n",
    "        weights = F.softmax(score, dim = -1)          \n",
    "        weights = self.dropout(weights)\n",
    "        product = torch.matmul(weights, v)\n",
    "        \n",
    "        return product\n",
    "        \n",
    "\n",
    "\n",
    "    def __init__(self, num_heads, size):\n",
    "\n",
    "        super(Attn, self).__init__()\n",
    "        self.num_heads = num_heads\n",
    "        self.dropout = nn.Dropout(0.1)\n",
    "        self.query, self.key, self.value, self.concat  = nn.Linear(size, size), nn.Linear(size, size), nn.Linear(size, size), nn.Linear(size, size)\n",
    "        self.divisor = int(size / num_heads)\n",
    "\n",
    "    def forward(self, search, key, value, mask):\n",
    "        search = self.query(search)\n",
    "        value = self.value(value)\n",
    "        search_key = self.key(key)\n",
    "        product = self.scaled_dot_product(search, search_key, value, mask) \n",
    "    \n",
    "        product = product.permute(0,2,1,3).contiguous().view(product.shape[0], -1, self.num_heads * self.divisor)\n",
    "        interacted = self.concat(product)\n",
    "        return interacted "
   ]
  },
  {
   "cell_type": "code",
   "execution_count": 36,
   "id": "bbd22198-f069-4621-a0a5-2ffe651dc5a2",
   "metadata": {},
   "outputs": [],
   "source": [
    "class FeedForward(nn.Module):\n",
    "\n",
    "    def __init__(self, d_model, middle_dim = 2048):\n",
    "        super(FeedForward, self).__init__()\n",
    "        \n",
    "        self.fc1 = nn.Linear(d_model, middle_dim)\n",
    "        self.fc2 = nn.Linear(middle_dim, d_model)\n",
    "        self.dropout = nn.Dropout(0.1)\n",
    "\n",
    "    def forward(self, x):\n",
    "        out = F.relu(self.fc1(x))\n",
    "        out = self.fc2(self.dropout(out))\n",
    "        return out"
   ]
  },
  {
   "cell_type": "code",
   "execution_count": 44,
   "id": "afbaced9-5a24-41cc-bbcf-548af75a4a00",
   "metadata": {},
   "outputs": [],
   "source": [
    "class EncoderLayer(nn.Module):\n",
    "\n",
    "    def __init__(self, d_model, heads):\n",
    "        super(EncoderLayer, self).__init__()\n",
    "        self.layernorm = nn.LayerNorm(d_model)\n",
    "        self.self_multihead = Attn(heads, d_model)\n",
    "        self.feed_forward = FeedForward(d_model)\n",
    "        self.dropout = nn.Dropout(0.1)\n",
    "\n",
    "    def forward(self, embeddings, mask):\n",
    "        interacted = self.dropout(self.self_multihead(embeddings, embeddings, embeddings, mask))\n",
    "        interacted = self.layernorm(interacted + embeddings)\n",
    "        feed_forward_out = self.dropout(self.feed_forward(interacted))\n",
    "        encoded = self.layernorm(feed_forward_out + interacted)\n",
    "        return encoded"
   ]
  },
  {
   "cell_type": "code",
   "execution_count": 45,
   "id": "fbdcaf1a-291c-497f-bc07-6bc5a6a221fd",
   "metadata": {},
   "outputs": [
    {
     "data": {
      "text/plain": [
       "'class Decoder(nn.Module):\\n\\n    def __init__(self, d_model, heads):\\n        super(Decoder, self).__init__()\\n        self.layernorm = nn.LayerNorm(d_model)\\n        self.self_multihead = MultiHeadAttention(heads, d_model)\\n        self.src_multihead = MultiHeadAttention(heads, d_model)\\n        self.feed_forward = FeedForward(d_model)\\n        self.dropout = nn.Dropout(0.1)\\n\\n    def forward(self, embeddings, encoded, src_mask, target_mask):\\n        query = self.dropout(self.self_multihead(embeddings, embeddings, embeddings, target_mask))\\n        query = self.layernorm(query + embeddings)\\n        interacted = self.dropout(self.src_multihead(query, encoded, encoded, src_mask))\\n        interacted = self.layernorm(interacted + query)\\n        feed_forward_out = self.dropout(self.feed_forward(interacted))\\n        decoded = self.layernorm(feed_forward_out + interacted)\\n        return decoded'"
      ]
     },
     "execution_count": 45,
     "metadata": {},
     "output_type": "execute_result"
    }
   ],
   "source": [
    "'''class Decoder(nn.Module):\n",
    "\n",
    "    def __init__(self, d_model, heads):\n",
    "        super(Decoder, self).__init__()\n",
    "        self.layernorm = nn.LayerNorm(d_model)\n",
    "        self.self_multihead = MultiHeadAttention(heads, d_model)\n",
    "        self.src_multihead = MultiHeadAttention(heads, d_model)\n",
    "        self.feed_forward = FeedForward(d_model)\n",
    "        self.dropout = nn.Dropout(0.1)\n",
    "\n",
    "    def forward(self, embeddings, encoded, src_mask, target_mask):\n",
    "        query = self.dropout(self.self_multihead(embeddings, embeddings, embeddings, target_mask))\n",
    "        query = self.layernorm(query + embeddings)\n",
    "        interacted = self.dropout(self.src_multihead(query, encoded, encoded, src_mask))\n",
    "        interacted = self.layernorm(interacted + query)\n",
    "        feed_forward_out = self.dropout(self.feed_forward(interacted))\n",
    "        decoded = self.layernorm(feed_forward_out + interacted)\n",
    "        return decoded'''"
   ]
  },
  {
   "cell_type": "code",
   "execution_count": 46,
   "id": "b717a0b8-4017-4e7a-a789-fe594982c0a0",
   "metadata": {},
   "outputs": [],
   "source": [
    "class Transformer(nn.Module):\n",
    "    \n",
    "    class Encoder(nn.Module):\n",
    "\n",
    "        def __init__(self, size, heads):\n",
    "            super(Transformer.Encoder, self).__init__()\n",
    "            self.layernorm = nn.LayerNorm(size)\n",
    "            self.attn = Attn(heads, size)\n",
    "            self.feed_forward = Transformer.Ann(size)\n",
    "            self.dropout = nn.Dropout(0.1)\n",
    "\n",
    "        def forward(self, emb, mask):\n",
    "            atten = self.dropout(self.attn(emb, emb, emb, mask))\n",
    "            atten = self.layernorm(atten + emb)\n",
    "            out = self.dropout(self.feed_forward(atten))\n",
    "            encoded = self.layernorm(out + atten)\n",
    "            return encoded\n",
    "    \n",
    "    \n",
    "    \n",
    "    class Decoder(nn.Module):\n",
    "        def __init__(self, size, heads):\n",
    "            super(Transformer.Decoder, self).__init__()\n",
    "            self.feed_forward = FeedForward(size)\n",
    "            self.dropout = nn.Dropout(0.1)\n",
    "            \n",
    "            self.layernorm = nn.LayerNorm(size)\n",
    "            \n",
    "            self.attn = Attn(heads, size)\n",
    "            self.attb = Attn(heads, size)\n",
    "            \n",
    "        def forward(self, emb, encoded, s_mask, t_mask):\n",
    "            search = self.dropout(self.attn(emb, emb, emb, t_mask))\n",
    "            search = self.layernorm(search + emb)\n",
    "            atten = self.dropout(self.attb(search, encoded, encoded, s_mask))\n",
    "            atten = self.layernorm(atten + search)\n",
    "            out = self.dropout(self.feed_forward(atten))\n",
    "            decoded = self.layernorm(out + atten)\n",
    "            return decoded\n",
    "    \n",
    "    def __init__(self, size, heads):\n",
    "        super(Transformer, self).__init__()\n",
    "        \n",
    "        self.size = size\n",
    "        self.vocab_size = len(voc)\n",
    "        self.embed = Embedding(self.vocab_size, size)\n",
    "        list_dec = []\n",
    "        list_enc = []\n",
    "        for i in range(3):\n",
    "            list_enc.append(self.Encoder(size, heads))\n",
    "            list_dec.append(self.Decoder(size, heads))\n",
    "        \n",
    "        self.encoder = nn.ModuleList(list_enc)\n",
    "        self.decoder = nn.ModuleList(list_dec)\n",
    "        \n",
    "        self.logit = nn.Linear(size, self.vocab_size)\n",
    "    \n",
    "    def encode(self, src_words, src_mask):\n",
    "        src_embeddings = self.embed(src_words)\n",
    "        for layer in self.encoder:\n",
    "            src_embeddings = layer(src_embeddings, src_mask)\n",
    "        return src_embeddings\n",
    "    \n",
    "    def decode(self, target_words, target_mask, src_embeddings, src_mask):\n",
    "        tgt_embeddings = self.embed(target_words)\n",
    "        for layer in self.decoder:\n",
    "            tgt_embeddings = layer(tgt_embeddings, src_embeddings, src_mask, target_mask)\n",
    "        return tgt_embeddings\n",
    "        \n",
    "    def forward(self, word, s_mask, t_word, t_mask):\n",
    "        s_emb = self.encode(word, s_mask)\n",
    "        decoded = self.decode(t_word, t_mask, s_emb, s_mask)\n",
    "        \n",
    "        out = F.log_softmax(self.logit(decoded), dim = 2)\n",
    "        return out\n"
   ]
  },
  {
   "cell_type": "code",
   "execution_count": 47,
   "id": "c475733a-fc46-420b-9114-b64b25265fb9",
   "metadata": {},
   "outputs": [],
   "source": [
    "class AdamWarmup:\n",
    "    \n",
    "    def __init__(self, model_size, warmup_steps, optimizer):\n",
    "        \n",
    "        self.model_size = model_size\n",
    "        self.warmup_steps = warmup_steps\n",
    "        self.optimizer = optimizer\n",
    "        self.current_step = 0\n",
    "        self.lr = 0\n",
    "        \n",
    "    def get_lr(self):\n",
    "        return self.model_size ** (-0.5) * min(self.current_step ** (-0.5), self.current_step * self.warmup_steps ** (-1.5))\n",
    "        \n",
    "    def step(self):\n",
    "        # Increment the number of steps each time we call the step function\n",
    "        self.current_step += 1\n",
    "        lr = self.get_lr()\n",
    "        for param_group in self.optimizer.param_groups:\n",
    "            param_group['lr'] = lr\n",
    "        # update the learning rate\n",
    "        self.lr = lr\n",
    "        self.optimizer.step()       "
   ]
  },
  {
   "cell_type": "code",
   "execution_count": 48,
   "id": "bc5e2e4e-9a5c-4834-be2c-26553265349f",
   "metadata": {},
   "outputs": [],
   "source": [
    "class LossWithLS(nn.Module):\n",
    "\n",
    "    def __init__(self, size, smooth):\n",
    "        super(LossWithLS, self).__init__()\n",
    "        self.criterion = nn.KLDivLoss(size_average=False, reduce=False)\n",
    "        self.confidence = 1.0 - smooth\n",
    "        self.smooth = smooth\n",
    "        self.size = size\n",
    "        \n",
    "    def forward(self, prediction, target, mask):\n",
    "        \"\"\"\n",
    "        prediction of shape: (batch_size, max_words, vocab_size)\n",
    "        target and mask of shape: (batch_size, max_words)\n",
    "        \"\"\"\n",
    "        prediction = prediction.view(-1, prediction.size(-1))   # (batch_size * max_words, vocab_size)\n",
    "        target = target.contiguous().view(-1)   # (batch_size * max_words)\n",
    "        mask = mask.float()\n",
    "        mask = mask.view(-1)       # (batch_size * max_words)\n",
    "        labels = prediction.data.clone()\n",
    "        labels.fill_(self.smooth / (self.size - 1))\n",
    "        labels.scatter_(1, target.data.unsqueeze(1), self.confidence)\n",
    "        loss = self.criterion(prediction, labels)    # (batch_size * max_words, vocab_size)\n",
    "        loss = (loss.sum(1) * mask).sum() / mask.sum()\n",
    "        return loss"
   ]
  },
  {
   "cell_type": "code",
   "execution_count": 49,
   "id": "ed0c81a4-1c74-4040-b48b-8fe9015f53b0",
   "metadata": {},
   "outputs": [],
   "source": [
    "import math"
   ]
  },
  {
   "cell_type": "code",
   "execution_count": 50,
   "id": "140b0449-4add-42ad-8b98-837ee4b73017",
   "metadata": {},
   "outputs": [
    {
     "name": "stderr",
     "output_type": "stream",
     "text": [
      "E:\\Ana\\lib\\site-packages\\torch\\nn\\_reduction.py:42: UserWarning: size_average and reduce args will be deprecated, please use reduction='none' instead.\n",
      "  warnings.warn(warning.format(ret))\n"
     ]
    }
   ],
   "source": [
    "d_model = 512\n",
    "heads = 8\n",
    "num_layers = 3\n",
    "device = torch.device(\"cuda\" if torch.cuda.is_available() else \"cpu\")\n",
    "epochs = 30\n",
    "    \n",
    "word_map = voc.enum    \n",
    "\n",
    "transformer = Transformer(size = d_model, heads = heads)\n",
    "transformer = transformer.to(device)\n",
    "adam_optimizer = torch.optim.Adam(transformer.parameters(), lr=0, betas=(0.9, 0.98), eps=1e-9)\n",
    "transformer_optimizer = AdamWarmup(model_size = d_model, warmup_steps = 4000, optimizer = adam_optimizer)\n",
    "criterion = LossWithLS(len(word_map), 0.1)"
   ]
  },
  {
   "cell_type": "code",
   "execution_count": 51,
   "id": "d7c4a8ab-a708-46f0-9f79-411229b0f49c",
   "metadata": {},
   "outputs": [],
   "source": [
    "epochs = 30\n"
   ]
  },
  {
   "cell_type": "code",
   "execution_count": 52,
   "id": "574e2c29-957a-4b7a-9fcf-deb1d9a5cee7",
   "metadata": {},
   "outputs": [],
   "source": [
    "def processor(size):\n",
    "    mask = torch.triu(torch.ones(size, size)).transpose(0, 1).type(dtype=torch.uint8)\n",
    "    return mask.unsqueeze(0)"
   ]
  },
  {
   "cell_type": "code",
   "execution_count": 53,
   "id": "89290509-d54a-4761-97fd-0e3950ce1a94",
   "metadata": {},
   "outputs": [],
   "source": [
    "def process_inputs(question, reply):\n",
    "        rep_inp = reply[:, :-1]\n",
    "        reply_target = reply[:, 1:]\n",
    "        \n",
    "        reply_input_mask = rep_inp\n",
    "        reply_input_mask = reply_input_mask.unsqueeze(1)\n",
    "        reply_target_mask = reply_target!=0 \n",
    "        #print(reply_input_mask)\n",
    "        reply_input_mask = torch.bitwise_and(reply_input_mask, processor(rep_inp.size(-1)).to(device) ).type_as(reply_input_mask.data) \n",
    "        #print(reply_input_mask)\n",
    "        reply_input_mask = reply_input_mask.unsqueeze(1) \n",
    "        question_mask = question\n",
    "        question_mask = question_mask.to(device)\n",
    "        question_mask = question_mask.unsqueeze(1).unsqueeze(1)\n",
    "        \n",
    "        return reply_target, question_mask, rep_inp, reply_input_mask, reply_target_mask"
   ]
  },
  {
   "cell_type": "code",
   "execution_count": 54,
   "id": "9ec4935c-aa70-4d73-880d-4504e559116d",
   "metadata": {},
   "outputs": [],
   "source": [
    "def train(train_loader, transformer, criterion, epoch):\n",
    "    \n",
    "    transformer.train()\n",
    "    sum_loss = 0\n",
    "    count = 0\n",
    "\n",
    "    for i, (question, reply) in enumerate(train_loader):\n",
    "        \n",
    "        samples = question.shape[0]\n",
    "\n",
    "        question = question.to(device)\n",
    "        reply = reply.to(device)\n",
    "            \n",
    "        reply_target, question_mask, reply_input, reply_input_mask, reply_target_mask = process_inputs(question, reply)\n",
    "        \n",
    "        out = transformer(question, question_mask, reply_input, reply_input_mask)\n",
    "        \n",
    "        loss = criterion(out, reply_target, reply_target_mask)\n",
    "        \n",
    "        \n",
    "        transformer_optimizer.optimizer.zero_grad()\n",
    "        loss.backward()\n",
    "        transformer_optimizer.step()\n",
    "        \n",
    "        sum_loss += loss.item() * samples\n",
    "        count += samples\n",
    "        \n",
    "        \n",
    "        if i % 100 == 0:\n",
    "            time = datetime.now()\n",
    "            print(\"Epoch : {} Batch : {}/{} Time {} ]\\tLoss: {:.3f}\".format(epoch, i, len(train_loader), time, sum_loss/count,))\n",
    "            #print(out)\n",
    "            #print(reply_target)"
   ]
  },
  {
   "cell_type": "code",
   "execution_count": 55,
   "id": "f0b76bdc-7e89-4667-af7b-b02fc1515487",
   "metadata": {},
   "outputs": [],
   "source": [
    "from datetime import datetime\n"
   ]
  },
  {
   "cell_type": "code",
   "execution_count": 56,
   "id": "aead33ee-2cf1-4667-9236-55919b8e1ed4",
   "metadata": {},
   "outputs": [
    {
     "name": "stdout",
     "output_type": "stream",
     "text": [
      "Epoch : 0 Batch : 0/2800 Time 2023-10-20 22:08:05.139980 ]\tLoss: 9.314\n",
      "Epoch : 0 Batch : 100/2800 Time 2023-10-20 22:11:35.092353 ]\tLoss: 8.529\n",
      "Epoch : 0 Batch : 200/2800 Time 2023-10-20 22:15:24.456185 ]\tLoss: 7.708\n",
      "Epoch : 0 Batch : 300/2800 Time 2023-10-20 22:19:12.937633 ]\tLoss: 7.050\n",
      "Epoch : 0 Batch : 400/2800 Time 2023-10-20 22:23:14.540268 ]\tLoss: 6.601\n",
      "Epoch : 0 Batch : 500/2800 Time 2023-10-20 22:26:58.219443 ]\tLoss: 6.290\n",
      "Epoch : 0 Batch : 600/2800 Time 2023-10-20 22:30:35.715482 ]\tLoss: 6.058\n",
      "Epoch : 0 Batch : 700/2800 Time 2023-10-20 22:34:16.518849 ]\tLoss: 5.876\n"
     ]
    },
    {
     "ename": "KeyboardInterrupt",
     "evalue": "",
     "output_type": "error",
     "traceback": [
      "\u001b[1;31m---------------------------------------------------------------------------\u001b[0m",
      "\u001b[1;31mKeyboardInterrupt\u001b[0m                         Traceback (most recent call last)",
      "Cell \u001b[1;32mIn[56], line 3\u001b[0m\n\u001b[0;32m      1\u001b[0m \u001b[38;5;28;01mfor\u001b[39;00m epoch \u001b[38;5;129;01min\u001b[39;00m \u001b[38;5;28mrange\u001b[39m(epochs):\n\u001b[1;32m----> 3\u001b[0m     \u001b[43mtrain\u001b[49m\u001b[43m(\u001b[49m\u001b[43mtrain_loader\u001b[49m\u001b[43m,\u001b[49m\u001b[43m \u001b[49m\u001b[43mtransformer\u001b[49m\u001b[43m,\u001b[49m\u001b[43m \u001b[49m\u001b[43mcriterion\u001b[49m\u001b[43m,\u001b[49m\u001b[43m \u001b[49m\u001b[43mepoch\u001b[49m\u001b[43m)\u001b[49m\n\u001b[0;32m      5\u001b[0m     state \u001b[38;5;241m=\u001b[39m {\u001b[38;5;124m'\u001b[39m\u001b[38;5;124mepoch\u001b[39m\u001b[38;5;124m'\u001b[39m: epoch, \u001b[38;5;124m'\u001b[39m\u001b[38;5;124mtransformer\u001b[39m\u001b[38;5;124m'\u001b[39m: transformer, \u001b[38;5;124m'\u001b[39m\u001b[38;5;124mtransformer_optimizer\u001b[39m\u001b[38;5;124m'\u001b[39m: transformer_optimizer}\n\u001b[0;32m      6\u001b[0m     torch\u001b[38;5;241m.\u001b[39msave(state, \u001b[38;5;124m'\u001b[39m\u001b[38;5;124mcheckpoint_\u001b[39m\u001b[38;5;124m'\u001b[39m \u001b[38;5;241m+\u001b[39m \u001b[38;5;28mstr\u001b[39m(epoch) \u001b[38;5;241m+\u001b[39m \u001b[38;5;124m'\u001b[39m\u001b[38;5;124m.pth.tar\u001b[39m\u001b[38;5;124m'\u001b[39m)\n",
      "Cell \u001b[1;32mIn[54], line 25\u001b[0m, in \u001b[0;36mtrain\u001b[1;34m(train_loader, transformer, criterion, epoch)\u001b[0m\n\u001b[0;32m     22\u001b[0m loss\u001b[38;5;241m.\u001b[39mbackward()\n\u001b[0;32m     23\u001b[0m transformer_optimizer\u001b[38;5;241m.\u001b[39mstep()\n\u001b[1;32m---> 25\u001b[0m sum_loss \u001b[38;5;241m+\u001b[39m\u001b[38;5;241m=\u001b[39m \u001b[43mloss\u001b[49m\u001b[38;5;241;43m.\u001b[39;49m\u001b[43mitem\u001b[49m\u001b[43m(\u001b[49m\u001b[43m)\u001b[49m\u001b[43m \u001b[49m\u001b[38;5;241;43m*\u001b[39;49m\u001b[43m \u001b[49m\u001b[43msamples\u001b[49m\n\u001b[0;32m     26\u001b[0m count \u001b[38;5;241m+\u001b[39m\u001b[38;5;241m=\u001b[39m samples\n\u001b[0;32m     29\u001b[0m \u001b[38;5;28;01mif\u001b[39;00m i \u001b[38;5;241m%\u001b[39m \u001b[38;5;241m100\u001b[39m \u001b[38;5;241m==\u001b[39m \u001b[38;5;241m0\u001b[39m:\n",
      "\u001b[1;31mKeyboardInterrupt\u001b[0m: "
     ]
    }
   ],
   "source": [
    "for epoch in range(epochs):\n",
    "    \n",
    "    train(train_loader, transformer, criterion, epoch)\n",
    "    \n",
    "    state = {'epoch': epoch, 'transformer': transformer, 'transformer_optimizer': transformer_optimizer}\n",
    "    torch.save(state, 'checkpoint_' + str(epoch) + '.pth.tar')"
   ]
  },
  {
   "cell_type": "code",
   "execution_count": null,
   "id": "22c5410c-af4d-4f15-92ad-35b44c467a3c",
   "metadata": {},
   "outputs": [],
   "source": [
    "    torch.save(state, 'checkpoint_' + str(\"BackUp\") + '.pth.tar')"
   ]
  },
  {
   "cell_type": "code",
   "execution_count": null,
   "id": "c1e5ca69-ce00-433e-9d00-18c396c66f7d",
   "metadata": {},
   "outputs": [],
   "source": [
    "Attn(8,10)"
   ]
  },
  {
   "cell_type": "code",
   "execution_count": null,
   "id": "a889ffe0-b207-4e36-bd3d-fa5b225bb3f5",
   "metadata": {},
   "outputs": [],
   "source": [
    "size = 11"
   ]
  },
  {
   "cell_type": "code",
   "execution_count": null,
   "id": "ec14ed00-5c20-4729-8e2f-206b1dca080d",
   "metadata": {},
   "outputs": [],
   "source": [
    "import math"
   ]
  },
  {
   "cell_type": "code",
   "execution_count": null,
   "id": "856cf209-9b81-4d3b-8504-20b5d5968277",
   "metadata": {},
   "outputs": [],
   "source": [
    "for i in range(math.ceil(size/2)):\n",
    "    print(i*2)"
   ]
  },
  {
   "cell_type": "code",
   "execution_count": null,
   "id": "2d3555e5-d8cc-4eec-827c-e6092f02e724",
   "metadata": {},
   "outputs": [],
   "source": []
  },
  {
   "cell_type": "code",
   "execution_count": null,
   "id": "66729565-9f0b-474f-a02a-8578fd55dea6",
   "metadata": {},
   "outputs": [],
   "source": [
    "def evaluate(transformer, question, question_mask, max_len, word_map):\n",
    "    \"\"\"\n",
    "    Performs Greedy Decoding with a batch size of 1\n",
    "    \"\"\"\n",
    "    rev_word_map = {v: k for k, v in word_map.enum.items()}\n",
    "    transformer.eval()\n",
    "    start_token = word_map.enum['SOS_token']\n",
    "    encoded = transformer.encode(question, question_mask)\n",
    "    words = torch.LongTensor([[start_token]]).to(device)\n",
    "    \n",
    "    for step in range(max_len - 1):\n",
    "        size = words.shape[1]\n",
    "        target_mask = torch.triu(torch.ones(size, size)).transpose(0, 1).type(dtype=torch.uint8)\n",
    "        target_mask = target_mask.to(device).unsqueeze(0).unsqueeze(0)\n",
    "        decoded = transformer.decode(words, target_mask, encoded, question_mask)\n",
    "        predictions = transformer.logit(decoded[:, -1])\n",
    "        _, next_word = torch.max(predictions, dim = 1)\n",
    "        next_word = next_word.item()\n",
    "        if next_word == word_map.enum['EOS_token']:\n",
    "            break\n",
    "        words = torch.cat([words, torch.LongTensor([[next_word]]).to(device)], dim = 1)   # (1,step+2)\n",
    "        \n",
    "    # Construct Sentence\n",
    "    if words.dim() == 2:\n",
    "        words = words.squeeze(0)\n",
    "        words = words.tolist()\n",
    "        \n",
    "    sen_idx = [w for w in words if w not in {word_map.enum['SOS_token']}]\n",
    "    sentence = ' '.join([rev_word_map[sen_idx[k]] for k in range(len(sen_idx))])\n",
    "    \n",
    "    return sentence"
   ]
  },
  {
   "cell_type": "code",
   "execution_count": 128,
   "id": "4f732f88-46ce-4c17-8e5f-a8ef3cd65138",
   "metadata": {},
   "outputs": [],
   "source": [
    "pairs[1]"
   ]
  },
  {
   "cell_type": "code",
   "execution_count": 157,
   "id": "8aea8639-642c-4239-a095-2309e3fc6ad8",
   "metadata": {},
   "outputs": [],
   "source": [
    "    question = input(\"Question: \") \n",
    "    question = clean_String(question)\n",
    "    if question == 'quit':\n",
    "        pass\n",
    "    max_len = input(\"Maximum Reply Length: \")\n",
    "    enc_qus = [voc.enum.get(word, voc.enum['UNK']) for word in question.split()]\n",
    "    question = torch.LongTensor(enc_qus).to(device).unsqueeze(0)\n",
    "    question_mask = (question!=0).to(device).unsqueeze(1).unsqueeze(1)  \n",
    "    sentence = evaluate(transformer, question, question_mask, int(max_len), voc)\n",
    "    print(sentence)"
   ]
  },
  {
   "cell_type": "code",
   "execution_count": null,
   "id": "537178de-cc56-472a-bdab-fbed265e8928",
   "metadata": {},
   "outputs": [],
   "source": [
    " She used to be really popular when she started high school, then it was just like she got sick of it or something"
   ]
  }
 ],
 "metadata": {
  "kernelspec": {
   "display_name": "Python 3 (ipykernel)",
   "language": "python",
   "name": "python3"
  },
  "language_info": {
   "codemirror_mode": {
    "name": "ipython",
    "version": 3
   },
   "file_extension": ".py",
   "mimetype": "text/x-python",
   "name": "python",
   "nbconvert_exporter": "python",
   "pygments_lexer": "ipython3",
   "version": "3.9.17"
  }
 },
 "nbformat": 4,
 "nbformat_minor": 5
}
