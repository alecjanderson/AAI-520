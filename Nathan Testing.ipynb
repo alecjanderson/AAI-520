{
 "cells": [
  {
   "cell_type": "code",
   "execution_count": 1,
   "id": "42e7df0c-e239-453a-aef8-c8ca6d777201",
   "metadata": {},
   "outputs": [],
   "source": [
    "import re\n",
    "import torch\n",
    "import torch.nn as nn\n",
    "import torch.nn.functional as F\n",
    "from torch.nn.utils.rnn import pad_sequence\n",
    "from torch.utils.data import DataLoader, Dataset\n",
    "# Metrics\n",
    "from nltk.translate.bleu_score import sentence_bleu\n",
    "from rouge_score import rouge_scorer\n",
    "# Text box\n",
    "import ipywidgets as widgets\n",
    "from IPython.display import display"
   ]
  },
  {
   "cell_type": "markdown",
   "id": "496c47d7-99b7-48da-a548-e27085190b5c",
   "metadata": {},
   "source": [
    "# Loading Data"
   ]
  },
  {
   "cell_type": "code",
   "execution_count": 2,
   "id": "e8635e07-a399-4732-9326-87bc2066ce61",
   "metadata": {},
   "outputs": [],
   "source": [
    "movie_lines_path = 'movie_lines.txt'\n",
    "movie_conversations_path = 'movie_conversations.txt'"
   ]
  },
  {
   "cell_type": "code",
   "execution_count": 25,
   "id": "03e7e220-0946-4887-b3c1-7587e07eb911",
   "metadata": {},
   "outputs": [],
   "source": [
    "with open(movie_lines_path, encoding='iso-8859-1', errors='ignore') as my_file:\n",
    "    all_lines = {}\n",
    "    for line in my_file:\n",
    "        split = line.split(' +++$+++ ')\n",
    "        linemp = {}\n",
    "        fields = [\"lineID\", \"characterID\", \"movieID\", \"character\", \"text\"]\n",
    "        count = 0\n",
    "        for field in (fields):\n",
    "                linemp[field] = split[count]\n",
    "                count +=1\n",
    "        all_lines[linemp['lineID']] = linemp        \n",
    "        \n"
   ]
  },
  {
   "cell_type": "code",
   "execution_count": 73,
   "id": "11228243-0624-4396-a869-dbeb6903ae1a",
   "metadata": {},
   "outputs": [],
   "source": [
    "with open(movie_conversations_path, encoding='iso-8859-1', errors='ignore') as my_file:\n",
    "    conv = []\n",
    "    for line in my_file:\n",
    "        split = line.split(' +++$+++ ')\n",
    "        obj = {}\n",
    "        fields = [\"character1ID\", \"character2ID\", \"movieID\", \"utteranceIDs\"]\n",
    "        count = 0 \n",
    "        for field in fields:\n",
    "            obj[field] = split[count]\n",
    "            count +=1\n",
    "        ID = re.compile('L[0-9]+').findall(obj['utteranceIDs'])\n",
    "        lines = []\n",
    "        \n",
    "        for id_ in ID:\n",
    "            lines.append(all_lines[id_])\n",
    "        obj['line'] = lines\n",
    "        conv.append(obj)"
   ]
  },
  {
   "cell_type": "code",
   "execution_count": 74,
   "id": "a9128b1c-a2d3-471c-9170-9c26cc9e471e",
   "metadata": {},
   "outputs": [
    {
     "data": {
      "text/plain": [
       "{'lineID': 'L985',\n",
       " 'characterID': 'u0',\n",
       " 'movieID': 'm0',\n",
       " 'character': 'BIANCA',\n",
       " 'text': 'I hope so.\\n'}"
      ]
     },
     "execution_count": 74,
     "metadata": {},
     "output_type": "execute_result"
    }
   ],
   "source": [
    "all_lines[\"L985\"]"
   ]
  },
  {
   "cell_type": "code",
   "execution_count": 75,
   "id": "fe44ff11-e6cf-4031-9d9d-e11c59ad3a6a",
   "metadata": {},
   "outputs": [
    {
     "data": {
      "text/plain": [
       "{'character1ID': 'u0',\n",
       " 'character2ID': 'u2',\n",
       " 'movieID': 'm0',\n",
       " 'utteranceIDs': \"['L367', 'L368']\\n\",\n",
       " 'line': [{'lineID': 'L367',\n",
       "   'characterID': 'u2',\n",
       "   'movieID': 'm0',\n",
       "   'character': 'CAMERON',\n",
       "   'text': 'How do you get your hair to look like that?\\n'},\n",
       "  {'lineID': 'L368',\n",
       "   'characterID': 'u0',\n",
       "   'movieID': 'm0',\n",
       "   'character': 'BIANCA',\n",
       "   'text': \"Eber's Deep Conditioner every two days. And I never, ever use a blowdryer without the diffuser attachment.\\n\"}]}"
      ]
     },
     "execution_count": 75,
     "metadata": {},
     "output_type": "execute_result"
    }
   ],
   "source": [
    "conv[10]"
   ]
  },
  {
   "cell_type": "markdown",
   "id": "2e77a02e-cf5c-4e7a-82ef-79a35f6774c0",
   "metadata": {},
   "source": [
    "# Matching Data"
   ]
  },
  {
   "cell_type": "code",
   "execution_count": 90,
   "id": "bdd12473-b5da-4467-821f-47d072334dc4",
   "metadata": {},
   "outputs": [
    {
     "ename": "IndexError",
     "evalue": "list index out of range",
     "output_type": "error",
     "traceback": [
      "\u001b[1;31m---------------------------------------------------------------------------\u001b[0m",
      "\u001b[1;31mIndexError\u001b[0m                                Traceback (most recent call last)",
      "Cell \u001b[1;32mIn[90], line 5\u001b[0m\n\u001b[0;32m      3\u001b[0m \u001b[38;5;28;01mfor\u001b[39;00m i \u001b[38;5;129;01min\u001b[39;00m \u001b[38;5;28mrange\u001b[39m(\u001b[38;5;28mlen\u001b[39m(convrtsation[\u001b[38;5;124m'\u001b[39m\u001b[38;5;124mline\u001b[39m\u001b[38;5;124m'\u001b[39m])):\n\u001b[0;32m      4\u001b[0m     question \u001b[38;5;241m=\u001b[39m convrtsation[\u001b[38;5;124m'\u001b[39m\u001b[38;5;124mline\u001b[39m\u001b[38;5;124m'\u001b[39m][i][\u001b[38;5;124m'\u001b[39m\u001b[38;5;124mtext\u001b[39m\u001b[38;5;124m'\u001b[39m]\u001b[38;5;241m.\u001b[39mstrip()\n\u001b[1;32m----> 5\u001b[0m     answer \u001b[38;5;241m=\u001b[39m \u001b[43mconvrtsation\u001b[49m\u001b[43m[\u001b[49m\u001b[38;5;124;43m'\u001b[39;49m\u001b[38;5;124;43mline\u001b[39;49m\u001b[38;5;124;43m'\u001b[39;49m\u001b[43m]\u001b[49m\u001b[43m[\u001b[49m\u001b[43mi\u001b[49m\u001b[38;5;241;43m+\u001b[39;49m\u001b[38;5;241;43m1\u001b[39;49m\u001b[43m]\u001b[49m[\u001b[38;5;124m'\u001b[39m\u001b[38;5;124mtext\u001b[39m\u001b[38;5;124m'\u001b[39m]\u001b[38;5;241m.\u001b[39mstrip()\n\u001b[0;32m      6\u001b[0m     \u001b[38;5;28;01mif\u001b[39;00m(question \u001b[38;5;129;01mand\u001b[39;00m answer):\n\u001b[0;32m      7\u001b[0m         pair \u001b[38;5;241m=\u001b[39m []\n",
      "\u001b[1;31mIndexError\u001b[0m: list index out of range"
     ]
    }
   ],
   "source": [
    "pairs = []\n",
    "for convrtsation in conv:\n",
    "        for i in range(len(convrtsation['line'])):\n",
    "            question = convrtsation['line'][i]['text'].strip()\n",
    "            answer = convrtsation['line'][i+1]['text'].strip()\n",
    "            if(question and answer):\n",
    "                pair = []\n",
    "                pair.append([question, answer])\n",
    "                pairs.append(pair)"
   ]
  },
  {
   "cell_type": "code",
   "execution_count": 89,
   "id": "d3552951-7952-46ca-b2c0-ba77810a05aa",
   "metadata": {},
   "outputs": [
    {
     "data": {
      "text/plain": [
       "[['Not the hacking and gagging and spitting part.  Please.',\n",
       "  'Not the hacking and gagging and spitting part.  Please.']]"
      ]
     },
     "execution_count": 89,
     "metadata": {},
     "output_type": "execute_result"
    }
   ],
   "source": [
    "pairs[2]"
   ]
  },
  {
   "cell_type": "code",
   "execution_count": null,
   "id": "9643b90a-c167-4dd1-89a3-3fd652c336e8",
   "metadata": {},
   "outputs": [],
   "source": []
  }
 ],
 "metadata": {
  "kernelspec": {
   "display_name": "Python 3 (ipykernel)",
   "language": "python",
   "name": "python3"
  },
  "language_info": {
   "codemirror_mode": {
    "name": "ipython",
    "version": 3
   },
   "file_extension": ".py",
   "mimetype": "text/x-python",
   "name": "python",
   "nbconvert_exporter": "python",
   "pygments_lexer": "ipython3",
   "version": "3.9.17"
  }
 },
 "nbformat": 4,
 "nbformat_minor": 5
}
